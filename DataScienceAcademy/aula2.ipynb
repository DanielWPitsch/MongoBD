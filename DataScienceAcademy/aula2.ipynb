{
 "cells": [
  {
   "cell_type": "code",
   "execution_count": 1,
   "id": "79c85877",
   "metadata": {},
   "outputs": [
    {
     "name": "stdout",
     "output_type": "stream",
     "text": [
      "Versão da Linguagem Python Usada Neste Jupyter Notebook: 3.9.7\n"
     ]
    }
   ],
   "source": [
    "from platform import python_version\n",
    "print('Versão da Linguagem Python Usada Neste Jupyter Notebook:', python_version())"
   ]
  },
  {
   "cell_type": "code",
   "execution_count": 2,
   "id": "991fa58c",
   "metadata": {},
   "outputs": [],
   "source": [
    "import pymongo"
   ]
  },
  {
   "cell_type": "code",
   "execution_count": 3,
   "id": "c81229f8",
   "metadata": {},
   "outputs": [
    {
     "data": {
      "text/plain": [
       "['admin', 'cadastrodb', 'config', 'local']"
      ]
     },
     "execution_count": 3,
     "metadata": {},
     "output_type": "execute_result"
    }
   ],
   "source": [
    "client_con = pymongo.MongoClient()\n",
    "client_con.list_database_names()"
   ]
  },
  {
   "cell_type": "code",
   "execution_count": 4,
   "id": "991db2b6",
   "metadata": {},
   "outputs": [
    {
     "data": {
      "text/plain": [
       "['posts', 'mycollection']"
      ]
     },
     "execution_count": 4,
     "metadata": {},
     "output_type": "execute_result"
    }
   ],
   "source": [
    "db = client_con.cadastrodb\n",
    "db.list_collection_names()"
   ]
  },
  {
   "cell_type": "code",
   "execution_count": 5,
   "id": "31005752",
   "metadata": {},
   "outputs": [
    {
     "data": {
      "text/plain": [
       "<pymongo.results.InsertOneResult at 0x13e50777e80>"
      ]
     },
     "execution_count": 5,
     "metadata": {},
     "output_type": "execute_result"
    }
   ],
   "source": [
    "db.mycollection.insert_one({\n",
    "   'titulo': 'MongoDB com Python',   \n",
    "   'descricao': 'MongoDB é um Banco de Dados NoSQL',\n",
    "   'by': 'Data Science Academy',\n",
    "   'url': 'http://www.datascienceacademy.com.br',\n",
    "   'tags': ['mongodb', 'database', 'NoSQL'],\n",
    "   'likes': 100\n",
    "})"
   ]
  },
  {
   "cell_type": "code",
   "execution_count": 6,
   "id": "6883ae71",
   "metadata": {},
   "outputs": [
    {
     "data": {
      "text/plain": [
       "{'_id': ObjectId('6304e65d9a16c680fbf863df'),\n",
       " 'titulo': 'MongoDB com Python',\n",
       " 'descricao': 'MongoDB é um Banco de Dados NoSQL',\n",
       " 'by': 'Data Science Academy',\n",
       " 'url': 'http://www.datascienceacademy.com.br',\n",
       " 'tags': ['mongodb', 'database', 'NoSQL'],\n",
       " 'likes': 100}"
      ]
     },
     "execution_count": 6,
     "metadata": {},
     "output_type": "execute_result"
    }
   ],
   "source": [
    "db.mycollection.find_one()"
   ]
  },
  {
   "cell_type": "code",
   "execution_count": 8,
   "id": "c84c2bc8",
   "metadata": {},
   "outputs": [
    {
     "data": {
      "text/plain": [
       "<pymongo.results.InsertOneResult at 0x13e51e64460>"
      ]
     },
     "execution_count": 8,
     "metadata": {},
     "output_type": "execute_result"
    }
   ],
   "source": [
    "doc1 = {\"Nome\":\"Donald\",\"sobrenome\":\"Trump\",\"twitter\":\"@POTUS\"}\n",
    "db.mycollection.insert_one(doc1)"
   ]
  },
  {
   "cell_type": "code",
   "execution_count": 9,
   "id": "833e4428",
   "metadata": {},
   "outputs": [
    {
     "data": {
      "text/plain": [
       "<pymongo.results.InsertOneResult at 0x13e51e64430>"
      ]
     },
     "execution_count": 9,
     "metadata": {},
     "output_type": "execute_result"
    }
   ],
   "source": [
    "doc2 = {\"Site\":\"http://www.datascienceacademy.com.br\",\n",
    "        \"facebook\":\"facebook.com/dsacademybr\"}\n",
    "db.mycollection.insert_one(doc2)"
   ]
  },
  {
   "cell_type": "code",
   "execution_count": 10,
   "id": "0561806a",
   "metadata": {},
   "outputs": [
    {
     "name": "stdout",
     "output_type": "stream",
     "text": [
      "{'_id': ObjectId('6304e65d9a16c680fbf863df'), 'titulo': 'MongoDB com Python', 'descricao': 'MongoDB é um Banco de Dados NoSQL', 'by': 'Data Science Academy', 'url': 'http://www.datascienceacademy.com.br', 'tags': ['mongodb', 'database', 'NoSQL'], 'likes': 100}\n",
      "{'_id': ObjectId('6304e66d9a16c680fbf863e0'), 'Nome': 'Donald', 'sobrenome': 'Trump', 'twitter': '@POTUS'}\n",
      "{'_id': ObjectId('6304e66e9a16c680fbf863e1'), 'Site': 'http://www.datascienceacademy.com.br', 'facebook': 'facebook.com/dsacademybr'}\n",
      "{'_id': ObjectId('632d22045cb214a177d738c9'), 'titulo': 'MongoDB com Python', 'descricao': 'MongoDB é um Banco de Dados NoSQL', 'by': 'Data Science Academy', 'url': 'http://www.datascienceacademy.com.br', 'tags': ['mongodb', 'database', 'NoSQL'], 'likes': 100}\n",
      "{'_id': ObjectId('632d225a5cb214a177d738cb'), 'titulo': 'MongoDB com Python', 'descricao': 'MongoDB é um Banco de Dados NoSQL', 'by': 'Data Science Academy', 'url': 'http://www.datascienceacademy.com.br', 'tags': ['mongodb', 'database', 'NoSQL'], 'likes': 100}\n",
      "{'_id': ObjectId('632d2271979aa2edbcb7d805'), 'titulo': 'MongoDB com Python', 'descricao': 'MongoDB é um Banco de Dados NoSQL', 'by': 'Data Science Academy', 'url': 'http://www.datascienceacademy.com.br', 'tags': ['mongodb', 'database', 'NoSQL'], 'likes': 100}\n",
      "{'_id': ObjectId('632d22d9979aa2edbcb7d806'), 'Nome': 'Donald', 'sobrenome': 'Trump', 'twitter': '@POTUS'}\n",
      "{'_id': ObjectId('632d22ed979aa2edbcb7d807'), 'Site': 'http://www.datascienceacademy.com.br', 'facebook': 'facebook.com/dsacademybr'}\n"
     ]
    }
   ],
   "source": [
    "for rec in db.mycollection.find():\n",
    "    print(rec)"
   ]
  },
  {
   "cell_type": "code",
   "execution_count": 11,
   "id": "936ad76c",
   "metadata": {},
   "outputs": [
    {
     "data": {
      "text/plain": [
       "pymongo.collection.Collection"
      ]
     },
     "execution_count": 11,
     "metadata": {},
     "output_type": "execute_result"
    }
   ],
   "source": [
    "col = db[\"mycollection\"]\n",
    "type(col)"
   ]
  },
  {
   "cell_type": "code",
   "execution_count": 12,
   "id": "7beac009",
   "metadata": {},
   "outputs": [
    {
     "data": {
      "text/plain": [
       "8"
      ]
     },
     "execution_count": 12,
     "metadata": {},
     "output_type": "execute_result"
    }
   ],
   "source": [
    "col.estimated_document_count()"
   ]
  },
  {
   "cell_type": "code",
   "execution_count": 14,
   "id": "8e700f64",
   "metadata": {},
   "outputs": [
    {
     "data": {
      "text/plain": [
       "{'_id': ObjectId('6304e65d9a16c680fbf863df'),\n",
       " 'titulo': 'MongoDB com Python',\n",
       " 'descricao': 'MongoDB é um Banco de Dados NoSQL',\n",
       " 'by': 'Data Science Academy',\n",
       " 'url': 'http://www.datascienceacademy.com.br',\n",
       " 'tags': ['mongodb', 'database', 'NoSQL'],\n",
       " 'likes': 100}"
      ]
     },
     "execution_count": 14,
     "metadata": {},
     "output_type": "execute_result"
    }
   ],
   "source": [
    "redoc = col.find_one()\n",
    "redoc"
   ]
  },
  {
   "cell_type": "code",
   "execution_count": null,
   "id": "4b382b66",
   "metadata": {},
   "outputs": [],
   "source": []
  }
 ],
 "metadata": {
  "kernelspec": {
   "display_name": "Python 3 (ipykernel)",
   "language": "python",
   "name": "python3"
  },
  "language_info": {
   "codemirror_mode": {
    "name": "ipython",
    "version": 3
   },
   "file_extension": ".py",
   "mimetype": "text/x-python",
   "name": "python",
   "nbconvert_exporter": "python",
   "pygments_lexer": "ipython3",
   "version": "3.9.7"
  }
 },
 "nbformat": 4,
 "nbformat_minor": 5
}
